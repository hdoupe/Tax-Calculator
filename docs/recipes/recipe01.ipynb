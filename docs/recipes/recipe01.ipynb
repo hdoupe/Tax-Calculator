{
 "cells": [
  {
   "cell_type": "markdown",
   "metadata": {},
   "source": [
    "# Recipe 1: Directly Comparing Two Reforms\n",
    "\n",
    "This is an advanced recipe that should be followed only after mastering the basic recipe.\n",
    "This recipe shows how to compare two reforms (instead of comparing a reform to current-law policy)\n",
    "and also shows how to use the reform files available on the Tax-Calculator website\n",
    "(instead of reform files on your computer’s disk)."
   ]
  },
  {
   "cell_type": "code",
   "execution_count": 1,
   "metadata": {
    "tags": [
     "remove-cell"
    ]
   },
   "outputs": [],
   "source": [
    "# Install conda and taxcalc if in Google Colab.\n",
    "import sys\n",
    "if 'google.colab' in sys.modules and 'taxcalc' not in sys.modules:\n",
    "    !wget https://repo.continuum.io/miniconda/Miniconda3-latest-Linux-x86_64.sh\n",
    "    !bash Miniconda3-latest-Linux-x86_64.sh -bfp /usr/local\n",
    "    # Append path to be able to run packages installed with conda\n",
    "    # This must correspond to the conda Python version, which may differ from\n",
    "    # the base Colab Python installation.\n",
    "    sys.path.append('/usr/local/lib/python3.7/site-packages')\n",
    "    # Install PSL packages from Anaconda\n",
    "    !yes | conda install -c PSLmodels taxcalc behresp"
   ]
  },
  {
   "cell_type": "code",
   "execution_count": 2,
   "metadata": {
    "hide-output": false
   },
   "outputs": [
    {
     "name": "stdout",
     "output_type": "stream",
     "text": [
      "2018_REFORM1_iitax_rev($B)= 1422.968\n",
      "2018_REFORM2_iitax_rev($B)= 1272.649\n",
      "\n"
     ]
    }
   ],
   "source": [
    "import pandas as pd\n",
    "import taxcalc as tc\n",
    "\n",
    "# read an \"old\" reform file\n",
    "# (\"old\" means the reform file is defined relative to pre-TCJA policy)\n",
    "REFORMS_PATH = '../../taxcalc/reforms/'\n",
    "\n",
    "# specify reform dictionary for pre-TCJA policy\n",
    "reform1 = tc.Policy.read_json_reform(REFORMS_PATH + '2017_law.json')\n",
    "\n",
    "# specify reform dictionary for TCJA as passed by Congress in late 2017\n",
    "reform2 = tc.Policy.read_json_reform(REFORMS_PATH + 'TCJA.json')\n",
    "\n",
    "# specify Policy object for pre-TCJA policy\n",
    "bpolicy = tc.Policy()\n",
    "bpolicy.implement_reform(reform1, print_warnings=False, raise_errors=False)\n",
    "assert not bpolicy.parameter_errors\n",
    "\n",
    "# specify Policy object for TCJA reform relative to pre-TCJA policy\n",
    "rpolicy = tc.Policy()\n",
    "rpolicy.implement_reform(reform1, print_warnings=False, raise_errors=False)\n",
    "assert not rpolicy.parameter_errors\n",
    "rpolicy.implement_reform(reform2, print_warnings=False, raise_errors=False)\n",
    "assert not rpolicy.parameter_errors\n",
    "\n",
    "# specify Calculator objects using bpolicy and rpolicy\n",
    "recs = tc.Records.cps_constructor()\n",
    "calc1 = tc.Calculator(policy=bpolicy, records=recs)\n",
    "calc2 = tc.Calculator(policy=rpolicy, records=recs)\n",
    "\n",
    "CYR = 2018\n",
    "\n",
    "# calculate for specified CYR\n",
    "calc1.advance_to_year(CYR)\n",
    "calc1.calc_all()\n",
    "calc2.advance_to_year(CYR)\n",
    "calc2.calc_all()\n",
    "\n",
    "# compare aggregate individual income tax revenue in cyr\n",
    "iitax_rev1 = calc1.weighted_total('iitax')\n",
    "iitax_rev2 = calc2.weighted_total('iitax')\n",
    "\n",
    "# construct reform-vs-baseline difference table with results for income deciles\n",
    "diff_table = calc1.difference_table(calc2, 'weighted_deciles', 'iitax')\n",
    "assert isinstance(diff_table, pd.DataFrame)\n",
    "diff_extract = pd.DataFrame()\n",
    "dif_colnames = ['count', 'tax_cut', 'tax_inc',\n",
    "                'tot_change', 'mean', 'pc_aftertaxinc']\n",
    "ext_colnames = ['funits(#m)', 'taxfall(#m)', 'taxrise(#m)',\n",
    "                'agg_diff($b)', 'mean_diff($)', 'aftertax_income_diff(%)']\n",
    "for dname, ename in zip(dif_colnames, ext_colnames):\n",
    "    diff_extract[ename] = diff_table[dname]\n",
    "\n",
    "# print total revenue estimates for cyr\n",
    "# (estimates in billons of dollars)\n",
    "print('{}_REFORM1_iitax_rev($B)= {:.3f}'.format(CYR, iitax_rev1 * 1e-9))\n",
    "print('{}_REFORM2_iitax_rev($B)= {:.3f}'.format(CYR, iitax_rev2 * 1e-9))\n",
    "print('')"
   ]
  },
  {
   "cell_type": "markdown",
   "metadata": {},
   "source": [
    "Print reform2-vs-reform1 difference table"
   ]
  },
  {
   "cell_type": "code",
   "execution_count": 3,
   "metadata": {
    "hide-output": false
   },
   "outputs": [
    {
     "name": "stdout",
     "output_type": "stream",
     "text": [
      "Extract of 2018 income-tax difference table by expanded-income decile\n",
      "(taxfall is count of funits with cut in income tax in reform 2 vs 1)\n",
      "(taxrise is count of funits with rise in income tax in reform 2 vs 1)\n",
      "        funits(#m)  taxfall(#m)  taxrise(#m)  agg_diff($b)  mean_diff($)  aftertax_income_diff(%)\n",
      "0-10n         0.05         0.00         0.00         0.006         131.3                      0.0\n",
      "0-10z         0.91         0.00         0.00         0.000           0.0                      NaN\n",
      "0-10p        15.33         4.86         1.69        -0.655         -42.7                      0.4\n",
      "10-20        16.29         9.07         1.87        -1.894        -116.3                      0.5\n",
      "20-30        16.29         8.56         1.62        -3.339        -205.0                      0.7\n",
      "30-40        16.29         9.70         1.85        -5.138        -315.5                      0.8\n",
      "40-50        16.29        10.84         1.75        -6.737        -413.6                      0.9\n",
      "50-60        16.29        10.86         2.05        -8.111        -498.1                      0.9\n",
      "60-70        16.29        11.94         1.98       -10.640        -653.4                      0.9\n",
      "70-80        16.29        13.28         1.75       -15.309        -940.0                      1.1\n",
      "80-90        16.29        13.55         2.24       -22.922       -1407.5                      1.2\n",
      "90-100       16.29        14.50         1.68       -75.581       -4640.4                      1.9\n",
      "ALL         162.86       107.16        18.49      -150.319        -923.0                      1.3\n",
      "90-95         8.14         7.13         0.93       -18.071       -2218.8                      1.4\n",
      "95-99         6.51         5.95         0.54       -35.267       -5413.7                      2.3\n",
      "Top 1%        1.63         1.42         0.20       -22.243      -13655.5                      2.0\n"
     ]
    }
   ],
   "source": [
    "title = 'Extract of {} income-tax difference table by expanded-income decile'\n",
    "print(title.format(CYR))\n",
    "print('(taxfall is count of funits with cut in income tax in reform 2 vs 1)')\n",
    "print('(taxrise is count of funits with rise in income tax in reform 2 vs 1)')\n",
    "print(diff_extract.to_string())"
   ]
  }
 ],
 "metadata": {
  "celltoolbar": "Tags",
  "date": 1592702193.2377057,
  "download_nb": false,
  "filename": "recipe01.rst",
  "filename_with_path": "recipe01",
  "kernelspec": {
   "display_name": "Python 3",
   "language": "python",
   "name": "python3"
  },
  "language_info": {
   "codemirror_mode": {
    "name": "ipython",
    "version": 3
   },
   "file_extension": ".py",
   "mimetype": "text/x-python",
   "name": "python",
   "nbconvert_exporter": "python",
   "pygments_lexer": "ipython3",
   "version": "3.7.7"
  },
  "title": "Recipe 1: Directly Comparing Two Reforms"
 },
 "nbformat": 4,
 "nbformat_minor": 4
}
